{
 "cells": [
  {
   "cell_type": "code",
   "execution_count": 1,
   "metadata": {},
   "outputs": [],
   "source": [
    "import os\n",
    "import math\n",
    "import fiftyone as fo\n",
    "import fiftyone.brain as fob\n",
    "from typing import Any, Dict, List, Optional, Tuple"
   ]
  },
  {
   "cell_type": "markdown",
   "metadata": {},
   "source": [
    "## Visualize and remove duplicates"
   ]
  },
  {
   "cell_type": "code",
   "execution_count": 2,
   "metadata": {},
   "outputs": [
    {
     "name": "stdout",
     "output_type": "stream",
     "text": [
      " 100% |█████████████████| 206/206 [89.0ms elapsed, 0s remaining, 2.3K samples/s]   \n"
     ]
    }
   ],
   "source": [
    "dataset_dir = \"../data/Documents/\"\n",
    "train_dir = \"../data/train/\"\n",
    "val_dir = \"../data/val/\"\n",
    "dataset = fo.Dataset.from_dir(\n",
    "    dataset_dir=val_dir,\n",
    "    dataset_type=fo.types.ImageClassificationDirectoryTree\n",
    ")"
   ]
  },
  {
   "cell_type": "code",
   "execution_count": null,
   "metadata": {},
   "outputs": [],
   "source": [
    "fob.compute_uniqueness(dataset)\n",
    "# print(dataset.first())"
   ]
  },
  {
   "cell_type": "code",
   "execution_count": 3,
   "metadata": {},
   "outputs": [
    {
     "data": {
      "text/html": [
       "\n",
       "        <iframe\n",
       "            width=\"100%\"\n",
       "            height=\"800\"\n",
       "            src=\"http://localhost:5151/?notebook=True&subscription=6e08b235-a481-4cac-8097-05a8f473399c\"\n",
       "            frameborder=\"0\"\n",
       "            allowfullscreen\n",
       "            \n",
       "        ></iframe>\n",
       "        "
      ],
      "text/plain": [
       "<IPython.lib.display.IFrame at 0x16b508730>"
      ]
     },
     "metadata": {},
     "output_type": "display_data"
    }
   ],
   "source": [
    "session = fo.launch_app(dataset)"
   ]
  },
  {
   "cell_type": "code",
   "execution_count": null,
   "metadata": {},
   "outputs": [],
   "source": [
    "# Sort in increasing order of uniqueness (least unique first)\n",
    "dups_view = dataset.sort_by(\"uniqueness\")\n",
    "\n",
    "# Open view in the App\n",
    "session.view = dups_view"
   ]
  },
  {
   "cell_type": "code",
   "execution_count": null,
   "metadata": {},
   "outputs": [],
   "source": [
    "def remove_dupes(sorted_data: List[fo.Sample], rtol: float = 1e-9) -> Tuple[List[fo.Sample], set[str]]:\n",
    "    \"\"\"This function removes duplicates in a dataset sorted by uniqueness value.\n",
    "    Returns a de-duplicated dataset and a list of filepaths of duplicates\"\"\"\n",
    "    assert len(sorted_data) >= 2, \"No duplicates\"\n",
    "    dup_paths: set[str] = set()\n",
    "    dedupe_dataset: List[fo.Sample] = []\n",
    "    for i in range(0, len(sorted_data)-1):\n",
    "        for j in range(i+1, len(sorted_data)):\n",
    "            if math.isclose(sorted_data[i]['uniqueness'], sorted_data[j]['uniqueness'], rel_tol=rtol):\n",
    "                dup_paths.add(sorted_data[j]['filepath'])\n",
    "            else:\n",
    "                break\n",
    "        if sorted_data[i]['filepath'] not in dup_paths:\n",
    "            dedupe_dataset.append(sorted_data[i])\n",
    "    \n",
    "    return dedupe_dataset, dup_paths"
   ]
  },
  {
   "cell_type": "code",
   "execution_count": null,
   "metadata": {},
   "outputs": [],
   "source": [
    "# Sort the dataset by uniqueness\n",
    "sorted_dataset = sorted(dataset, key=lambda x: x[\"uniqueness\"]) # list of samples"
   ]
  },
  {
   "cell_type": "code",
   "execution_count": null,
   "metadata": {},
   "outputs": [],
   "source": [
    "deduped_dataset_list, dup_paths = remove_dupes(sorted_dataset, 1e-5)\n",
    "deduped_dataset = fo.Dataset()\n",
    "deduped_dataset.add_samples(deduped_dataset_list)"
   ]
  },
  {
   "cell_type": "markdown",
   "metadata": {},
   "source": [
    "### Remove duplicate images"
   ]
  },
  {
   "cell_type": "code",
   "execution_count": null,
   "metadata": {},
   "outputs": [],
   "source": [
    "dup_paths"
   ]
  },
  {
   "cell_type": "code",
   "execution_count": null,
   "metadata": {},
   "outputs": [],
   "source": [
    "not_found_cnt = 0\n",
    "# Iterate through the list of paths and delete the files if they exist\n",
    "for path in dup_paths:\n",
    "    if os.path.exists(path):\n",
    "        try:\n",
    "            os.remove(path)  # Delete the file\n",
    "            print(f\"Deleted: {path}\")\n",
    "        except OSError as e:\n",
    "            print(f\"Error deleting {path}: {e}\")\n",
    "    else:\n",
    "        print(f\"File not found: {path}\")\n",
    "        not_found_cnt += 1"
   ]
  },
  {
   "cell_type": "code",
   "execution_count": null,
   "metadata": {},
   "outputs": [],
   "source": [
    "not_found_cnt"
   ]
  },
  {
   "cell_type": "code",
   "execution_count": null,
   "metadata": {},
   "outputs": [],
   "source": [
    "session = fo.launch_app(deduped_dataset)"
   ]
  },
  {
   "cell_type": "code",
   "execution_count": null,
   "metadata": {},
   "outputs": [],
   "source": [
    "deduped_dataset.name = \"Deduped dataset - automatic1\" # any name\n",
    "deduped_dataset.persistent = True"
   ]
  },
  {
   "cell_type": "markdown",
   "metadata": {},
   "source": [
    "## Delete duplicate images (depricated)"
   ]
  },
  {
   "cell_type": "code",
   "execution_count": null,
   "metadata": {},
   "outputs": [],
   "source": [
    "all_datasets = fo.list_datasets()\n",
    "all_datasets"
   ]
  },
  {
   "cell_type": "code",
   "execution_count": null,
   "metadata": {},
   "outputs": [],
   "source": [
    "dataset = fo.load_dataset('Deduped dataset - automatic1')\n",
    "session = fo.launch_app(dataset) # optionally view the saved dataset\n",
    "unique_images = [sample['filepath'] for sample in dataset]\n",
    "unique_images"
   ]
  },
  {
   "cell_type": "markdown",
   "metadata": {},
   "source": [
    "**Note**: below code isn't working. Deletes entire directory"
   ]
  },
  {
   "cell_type": "code",
   "execution_count": null,
   "metadata": {},
   "outputs": [],
   "source": [
    "start_directory = \"../data/Documents/\"\n",
    "# Recursively traverse the directory and delete files not in the list\n",
    "for root, dirs, files in os.walk(start_directory):\n",
    "    for filename in files:\n",
    "        file_path = os.path.abspath(os.path.join(root, filename))\n",
    "        # print(file_path)\n",
    "        if filename not in unique_images:\n",
    "            try:\n",
    "                os.remove(file_path)  # Delete the file\n",
    "                print(f\"Deleted: {file_path}\")\n",
    "            except OSError as e:\n",
    "                print(f\"Error deleting {file_path}: {e}\")\n",
    "\n",
    "print(\"Deletion process complete.\")"
   ]
  }
 ],
 "metadata": {
  "kernelspec": {
   "display_name": "ml",
   "language": "python",
   "name": "python3"
  },
  "language_info": {
   "codemirror_mode": {
    "name": "ipython",
    "version": 3
   },
   "file_extension": ".py",
   "mimetype": "text/x-python",
   "name": "python",
   "nbconvert_exporter": "python",
   "pygments_lexer": "ipython3",
   "version": "3.10.12"
  }
 },
 "nbformat": 4,
 "nbformat_minor": 2
}
